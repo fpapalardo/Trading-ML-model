{
 "cells": [
  {
   "cell_type": "code",
   "execution_count": null,
   "id": "224a42c6",
   "metadata": {},
   "outputs": [],
   "source": [
    "from itertools import product\n",
    "\n",
    "avoid_funcs = {\n",
    "    #'avoid_hour_18_19': avoid_hour_18_19\n",
    "    #'news_window': avoid_news,\n",
    "}\n",
    "\n",
    "param_grid_strategy = {\n",
    "    'SL_ATR_MULT': [1.0, 1.5, 2.0],  # Wider stops\n",
    "    'TP_ATR_MULT': [3.0, 4.0, 5.0, 8.0],   # More conservative targets\n",
    "    'TRAIL_START_MULT': [1.0, 1.5],    # Let winners run\n",
    "    'TRAIL_STOP_MULT': [0.8, 1.0],     # Tighter trailing stops\n",
    "    'TICK_VALUE': [20],\n",
    "}\n",
    "\n",
    "keys, values = zip(*param_grid_strategy.items())\n",
    "combinations = [dict(zip(keys, v)) for v in product(*values)]"
   ]
  },
  {
   "cell_type": "code",
   "execution_count": null,
   "id": "78d6e28c",
   "metadata": {},
   "outputs": [],
   "source": [
    "df_1min, resampled = load_and_resample_data(market, timeframes=['5min', '15min','1h'])\n",
    "\n",
    "df_5min = resampled['5min']\n",
    "df_15min = resampled['15min']\n",
    "df_1hr = resampled['1h']\n",
    "\n",
    "print(\"5min shape:\", df_5min.shape)\n",
    "print(\"15min shape:\", df_15min.shape)\n",
    "print(\"1h shape:\", df_1hr.shape)\n",
    "\n",
    "\n",
    "df_merged = apply_feature_engineering(\n",
    "    resampled=resampled,\n",
    "    add_all_features=add_all_features,\n",
    "    add_time_session_features=add_time_session_features,\n",
    "    #add_trend_features=add_trend_features,  # Pass your trend features function here\n",
    "    timeframes=['5min', '15min', '1h'],\n",
    "    base_tf='5min'\n",
    ")\n",
    "\n",
    "# Add this code right after the feature engineering but before model fitting\n",
    "\n",
    "print(f\"Original merged dataset shape: {df_merged.shape}\")\n",
    "\n",
    "# Count rows with at least one NaN\n",
    "nan_rows_count = df_merged.isna().any(axis=1).sum()\n",
    "total_rows = len(df_merged)\n",
    "print(f\"Rows with at least one NaN: {nan_rows_count} out of {total_rows} ({(nan_rows_count/total_rows)*100:.2f}%)\")"
   ]
  }
 ],
 "metadata": {
  "language_info": {
   "name": "python"
  }
 },
 "nbformat": 4,
 "nbformat_minor": 5
}
