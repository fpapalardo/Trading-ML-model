{
 "cells": [
  {
   "cell_type": "code",
   "execution_count": null,
   "id": "6f7ec43c",
   "metadata": {},
   "outputs": [
    {
     "name": "stdout",
     "output_type": "stream",
     "text": [
      "Column names as reprs: [\"'open'\", \"'high'\", \"'low'\", \"'close'\", \"'volume'\"]\n",
      "df15 resample SUCCESS!\n",
      "                               open      high       low     close  volume\n",
      "datetime                                                                 \n",
      "2025-06-13 15:45:00-04:00  21629.00  21660.50  21600.25  21652.25   25516\n",
      "2025-06-13 16:00:00-04:00  21652.75  21679.75  21643.25  21678.75    9766\n",
      "2025-06-13 16:15:00-04:00  21678.75  21678.75  21648.25  21652.50    1872\n",
      "2025-06-13 16:30:00-04:00  21653.75  21675.75  21652.50  21660.50    1579\n",
      "2025-06-13 16:45:00-04:00  21660.25  21664.00  21645.00  21652.00    1967\n"
     ]
    }
   ],
   "source": [
    "import pandas as pd\n",
    "from zoneinfo import ZoneInfo\n",
    "\n",
    "# Point this to your live CSV or use a manual query to fetch a few recent bars and build df_window\n",
    "BAR_FILE = \"./live_data/bar_data.csv\"\n",
    "\n",
    "# Load the latest bars\n",
    "df = pd.read_csv(\n",
    "    BAR_FILE,\n",
    "    parse_dates=['datetime'],\n",
    "    index_col='datetime'\n",
    ")\n",
    "\n",
    "if not isinstance(df.index, pd.DatetimeIndex):\n",
    "    df.index = pd.to_datetime(df.index)\n",
    "\n",
    "df.index = df.index.tz_convert(ZoneInfo(\"America/New_York\"))\n",
    "\n",
    "print(\"Column names as reprs:\", [repr(c) for c in df.columns])\n",
    "df.columns = df.columns.str.strip()\n",
    "df.columns = df.columns.str.replace('\\ufeff', '')\n",
    "\n",
    "agg_dict = {\n",
    "    'open': 'first',\n",
    "    'high': 'max',\n",
    "    'low': 'min',\n",
    "    'close': 'last',\n",
    "    'volume': 'sum'\n",
    "}\n",
    "\n",
    "for k in agg_dict:\n",
    "    assert k in df.columns, f\"Missing column: {k}\"\n",
    "\n",
    "try:\n",
    "    df15 = df.resample('15min', closed='left', label='left').agg(agg_dict).dropna()\n",
    "    print(\"df15 resample SUCCESS!\")\n",
    "    print(df15.tail())\n",
    "except Exception as e:\n",
    "    print(\"ERROR DURING df15 resample:\", e)\n"
   ]
  }
 ],
 "metadata": {
  "kernelspec": {
   "display_name": "Python 3",
   "language": "python",
   "name": "python3"
  },
  "language_info": {
   "codemirror_mode": {
    "name": "ipython",
    "version": 3
   },
   "file_extension": ".py",
   "mimetype": "text/x-python",
   "name": "python",
   "nbconvert_exporter": "python",
   "pygments_lexer": "ipython3",
   "version": "3.12.10"
  }
 },
 "nbformat": 4,
 "nbformat_minor": 5
}
